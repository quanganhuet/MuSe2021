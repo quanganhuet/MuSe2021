{
 "cells": [
  {
   "cell_type": "code",
   "execution_count": 1,
   "source": [
    "import torch.nn as nn\r\n",
    "import torch\r\n",
    "from torch.nn.utils.rnn import pad_sequence\r\n",
    "import matplotlib.pyplot as plt\r\n",
    "import torch.nn.functional as F\r\n",
    "import os\r\n",
    "import numpy as np\r\n",
    "import pandas as pd\r\n",
    "import pickle\r\n",
    "import matplotlib.pyplot as plt\r\n",
    "\r\n",
    "import torch\r\n",
    "print(torch.__version__)\r\n",
    "torch.cuda.is_available()\r\n",
    "\r\n",
    "train1 = []\r\n",
    "train2 = []\r\n",
    "train3 = []\r\n",
    "train4 = []\r\n",
    "\r\n",
    "train1_file= 'C:/Users/QUANG/Desktop/train1.csv'\r\n"
   ],
   "outputs": [
    {
     "output_type": "stream",
     "name": "stdout",
     "text": [
      "1.8.0\n"
     ]
    }
   ],
   "metadata": {}
  },
  {
   "cell_type": "code",
   "execution_count": 43,
   "source": [
    "import glob\r\n",
    "arousal = 'data/c3_muse_stress/label_segments/arousal/'\r\n",
    "valence = 'data/c3_muse_stress/label_segments/valence/'\r\n",
    "root_file_valence = 'C:/Users/QUANG/Desktop/label_segments/valence'\r\n",
    "root_file_arousal = 'results/prediction_muse/stress/FUSION_[2021-07-30-09-28]_[arousal]_[32_2_False]_[0.001_32]_VAT_0.6513/csv'\r\n",
    "partition_file = 'data/c3_muse_stress/metadata/partition.csv'\r\n",
    "\r\n",
    "filenames = glob.glob(glob.escape(root_file_arousal) + \"/*\")\r\n",
    "\r\n",
    "print(filenames)\r\n",
    "\r\n",
    "hist = []\r\n",
    "train= []\r\n",
    "val= []\r\n",
    "for i in filenames:\r\n",
    "    fn = int(i.split('\\\\')[-1].split('.')[0])\r\n",
    "    if fn in [2,3,13,15,17,37,39,40,41,54,56,61,64,67]:\r\n",
    "        df =  pd.read_csv(i).iloc[:,2]\r\n",
    "        hist.append(df)\r\n",
    "\r\n",
    "for i in (glob.glob(glob.escape(arousal) + \"/*\")):\r\n",
    "    fn = int(i.split('\\\\')[-1].split('.')[0])\r\n",
    "    if fn in [6,7,14,19,21,22,26,27,34,45,51,55,57,70]:\r\n",
    "        df =  pd.read_csv(i).iloc[:,2]\r\n",
    "        val.append(df)\r\n",
    "    elif fn not in [2,3,13,15,17,37,39,40,41,54,56,61,64,67]:\r\n",
    "        df =  pd.read_csv(i).iloc[:,2]\r\n",
    "        train.append(df)\r\n",
    "kwargs = dict(alpha=0.5, bins=100, density=False, stacked=True)\r\n",
    "\r\n",
    "hist= pd.concat(hist,axis=0, ignore_index=True)\r\n",
    "train= pd.concat(train,axis=0, ignore_index=True)\r\n",
    "val= pd.concat(val,axis=0, ignore_index=True)\r\n",
    "\r\n",
    "plt.hist(val, **kwargs, color='b', label='Development')\r\n",
    "plt.hist(hist, **kwargs, color='r', label='Test(Predict)')\r\n",
    "\r\n",
    "plt.gca().set(title='Histogram', ylabel='Frequency')"
   ],
   "outputs": [
    {
     "output_type": "stream",
     "name": "stdout",
     "text": [
      "['results/prediction_muse/stress\\\\FUSION_[2021-07-30-09-28]_[arousal]_[32_2_False]_[0.001_32]_VAT_0.6513\\\\csv\\\\13.csv', 'results/prediction_muse/stress\\\\FUSION_[2021-07-30-09-28]_[arousal]_[32_2_False]_[0.001_32]_VAT_0.6513\\\\csv\\\\15.csv', 'results/prediction_muse/stress\\\\FUSION_[2021-07-30-09-28]_[arousal]_[32_2_False]_[0.001_32]_VAT_0.6513\\\\csv\\\\17.csv', 'results/prediction_muse/stress\\\\FUSION_[2021-07-30-09-28]_[arousal]_[32_2_False]_[0.001_32]_VAT_0.6513\\\\csv\\\\2.csv', 'results/prediction_muse/stress\\\\FUSION_[2021-07-30-09-28]_[arousal]_[32_2_False]_[0.001_32]_VAT_0.6513\\\\csv\\\\3.csv', 'results/prediction_muse/stress\\\\FUSION_[2021-07-30-09-28]_[arousal]_[32_2_False]_[0.001_32]_VAT_0.6513\\\\csv\\\\37.csv', 'results/prediction_muse/stress\\\\FUSION_[2021-07-30-09-28]_[arousal]_[32_2_False]_[0.001_32]_VAT_0.6513\\\\csv\\\\39.csv', 'results/prediction_muse/stress\\\\FUSION_[2021-07-30-09-28]_[arousal]_[32_2_False]_[0.001_32]_VAT_0.6513\\\\csv\\\\40.csv', 'results/prediction_muse/stress\\\\FUSION_[2021-07-30-09-28]_[arousal]_[32_2_False]_[0.001_32]_VAT_0.6513\\\\csv\\\\41.csv', 'results/prediction_muse/stress\\\\FUSION_[2021-07-30-09-28]_[arousal]_[32_2_False]_[0.001_32]_VAT_0.6513\\\\csv\\\\54.csv', 'results/prediction_muse/stress\\\\FUSION_[2021-07-30-09-28]_[arousal]_[32_2_False]_[0.001_32]_VAT_0.6513\\\\csv\\\\56.csv', 'results/prediction_muse/stress\\\\FUSION_[2021-07-30-09-28]_[arousal]_[32_2_False]_[0.001_32]_VAT_0.6513\\\\csv\\\\61.csv', 'results/prediction_muse/stress\\\\FUSION_[2021-07-30-09-28]_[arousal]_[32_2_False]_[0.001_32]_VAT_0.6513\\\\csv\\\\64.csv', 'results/prediction_muse/stress\\\\FUSION_[2021-07-30-09-28]_[arousal]_[32_2_False]_[0.001_32]_VAT_0.6513\\\\csv\\\\67.csv']\n"
     ]
    },
    {
     "output_type": "execute_result",
     "data": {
      "text/plain": [
       "<matplotlib.legend.Legend at 0x1a33ffaa8b0>"
      ]
     },
     "metadata": {},
     "execution_count": 43
    },
    {
     "output_type": "display_data",
     "data": {
      "image/png": "[encoded data removed]",
      "text/plain": [
       "<Figure size 432x288 with 1 Axes>"
      ]
     },
     "metadata": {
      "needs_background": "light"
     }
    }
   ],
   "metadata": {}
  },
  {
   "cell_type": "code",
   "execution_count": null,
   "source": [],
   "outputs": [],
   "metadata": {}
  }
 ],
 "metadata": {
  "interpreter": {
   "hash": "092e88e4b444ff2686e951e53f03dfbbeca05ab925d8739e943d781029caa973"
  },
  "kernelspec": {
   "name": "python3",
   "display_name": "Python 3.8.5 64-bit ('base': conda)"
  },
  "language_info": {
   "name": "python",
   "version": "3.8.5",
   "mimetype": "text/x-python",
   "codemirror_mode": {
    "name": "ipython",
    "version": 3
   },
   "pygments_lexer": "ipython3",
   "nbconvert_exporter": "python",
   "file_extension": ".py"
  },
  "metadata": {
   "interpreter": {
    "hash": "e1f53127375793fce911bb4308ba58a21ec351231583ccf78d69ced3239201c6"
   }
  },
  "orig_nbformat": 2
 },
 "nbformat": 4,
 "nbformat_minor": 2
}